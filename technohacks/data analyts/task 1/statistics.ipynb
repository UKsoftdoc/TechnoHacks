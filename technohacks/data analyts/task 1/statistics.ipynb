{
 "cells": [
  {
   "cell_type": "markdown",
   "id": "680ae333-e8d6-4f9c-8d7a-674537270812",
   "metadata": {},
   "source": [
    "<font size=\"10\">  TechnoHacks Edutech</font>\n",
    "\n"
   ]
  },
  {
   "cell_type": "markdown",
   "id": "b1b1e70f-c4e5-4c4d-88a0-89d444592761",
   "metadata": {},
   "source": [
    "<font  size=\"5\"> **Data Analyst Intern**</font>\n",
    "\n",
    "<font size=\"4\">**Task Name: Calculate\n",
    "Summary Statistics**</font>\n",
    "\n",
    "<font size=\"4\" color=\"brown\" >About Task:</font>\n",
    "\n",
    "\n",
    "<font size=\"4\">We Have to calculate summary  statistics like mean,median,mode,  standard deviation for a dataset  (Titanic dataset).</font>\n",
    "\n",
    "<font size=\"4\" color=\"blue\" >Author:</font>  \n",
    "\n",
    "<font size=\"4\" >Krishnamoorthy M</font>  \n",
    "\n",
    "<font size=\"3\"  >Preprocessing</font>  \n",
    "\n",
    "<font size=\"3\">importing necessary packages</font>  \n",
    "\n",
    "\n"
   ]
  },
  {
   "cell_type": "code",
   "execution_count": 23,
   "id": "ee0816dd-3913-464b-a0a3-58cf6c6087ea",
   "metadata": {},
   "outputs": [],
   "source": [
    "import pandas as pd\n",
    "import numpy as np"
   ]
  },
  {
   "cell_type": "markdown",
   "id": "cb3e625d-ac23-421f-af2b-53f93fb761c5",
   "metadata": {},
   "source": [
    "<font size=\"4\">Loading Dataset</font>"
   ]
  },
  {
   "cell_type": "markdown",
   "id": "c81e2bbf-04c7-4314-a8b5-6b38819a2de7",
   "metadata": {},
   "source": [
    "data=pd.read_csv(\"titantic.csv\")"
   ]
  },
  {
   "cell_type": "code",
   "execution_count": 6,
   "id": "a3630448-7945-4785-bf0d-8cc8175b45ec",
   "metadata": {},
   "outputs": [
    {
     "data": {
      "text/html": [
       "<div>\n",
       "<style scoped>\n",
       "    .dataframe tbody tr th:only-of-type {\n",
       "        vertical-align: middle;\n",
       "    }\n",
       "\n",
       "    .dataframe tbody tr th {\n",
       "        vertical-align: top;\n",
       "    }\n",
       "\n",
       "    .dataframe thead th {\n",
       "        text-align: right;\n",
       "    }\n",
       "</style>\n",
       "<table border=\"1\" class=\"dataframe\">\n",
       "  <thead>\n",
       "    <tr style=\"text-align: right;\">\n",
       "      <th></th>\n",
       "      <th>PassengerId</th>\n",
       "      <th>Survived</th>\n",
       "    </tr>\n",
       "  </thead>\n",
       "  <tbody>\n",
       "    <tr>\n",
       "      <th>0</th>\n",
       "      <td>892</td>\n",
       "      <td>0</td>\n",
       "    </tr>\n",
       "    <tr>\n",
       "      <th>1</th>\n",
       "      <td>893</td>\n",
       "      <td>1</td>\n",
       "    </tr>\n",
       "    <tr>\n",
       "      <th>2</th>\n",
       "      <td>894</td>\n",
       "      <td>0</td>\n",
       "    </tr>\n",
       "    <tr>\n",
       "      <th>3</th>\n",
       "      <td>895</td>\n",
       "      <td>0</td>\n",
       "    </tr>\n",
       "    <tr>\n",
       "      <th>4</th>\n",
       "      <td>896</td>\n",
       "      <td>1</td>\n",
       "    </tr>\n",
       "  </tbody>\n",
       "</table>\n",
       "</div>"
      ],
      "text/plain": [
       "   PassengerId  Survived\n",
       "0          892         0\n",
       "1          893         1\n",
       "2          894         0\n",
       "3          895         0\n",
       "4          896         1"
      ]
     },
     "execution_count": 6,
     "metadata": {},
     "output_type": "execute_result"
    }
   ],
   "source": [
    "data.head()"
   ]
  },
  {
   "cell_type": "markdown",
   "id": "00928340-98c4-4b71-8d8d-2b6e6e6d627f",
   "metadata": {},
   "source": [
    "<font size=\"4\">getting numeric column name</font>"
   ]
  },
  {
   "cell_type": "code",
   "execution_count": 7,
   "id": "4ad95ac1-b5b5-42e4-95eb-cf2b074c30bb",
   "metadata": {},
   "outputs": [],
   "source": [
    "numeric_column=['PassengerId','Survived']"
   ]
  },
  {
   "cell_type": "markdown",
   "id": "fc56d80a-dc31-4bb0-bcea-52badbd37ca1",
   "metadata": {},
   "source": [
    "<font size=\"4\"> Calculating Mean</font>"
   ]
  },
  {
   "cell_type": "code",
   "execution_count": 27,
   "id": "de883f87-4e33-46d7-a60b-646396c9adfc",
   "metadata": {},
   "outputs": [
    {
     "name": "stdout",
     "output_type": "stream",
     "text": [
      " The Mean value of PassengerId columns is: 1100.5\n",
      " The Mean value of Survived columns is: 0.36363636363636365\n"
     ]
    }
   ],
   "source": [
    "for col in numeric_column: \n",
    "    print(f' The Mean value of {col} columns is: {data[col].mean()}')"
   ]
  },
  {
   "cell_type": "markdown",
   "id": "a2ac7dcf-4a60-4f9d-afde-c75649fe67c1",
   "metadata": {},
   "source": [
    "<font size=\"4\"> Calculating Median</font>"
   ]
  },
  {
   "cell_type": "code",
   "execution_count": 28,
   "id": "39884a94-3a6c-4c70-ae10-440ecb9b97be",
   "metadata": {},
   "outputs": [
    {
     "name": "stdout",
     "output_type": "stream",
     "text": [
      "The Median value of PassengerId columns is: 1100.5\n",
      "The Median value of Survived columns is: 0.0\n"
     ]
    }
   ],
   "source": [
    "for col in numeric_column:\n",
    "    print(f'The Median value of {col} columns is: {data[col].median()}') "
   ]
  },
  {
   "cell_type": "markdown",
   "id": "3ddf889e-2408-464a-bf5a-39f6522fcfcb",
   "metadata": {},
   "source": [
    "<font size=\"4\"> Calculating Mode</font>"
   ]
  },
  {
   "cell_type": "code",
   "execution_count": 12,
   "id": "f970bfc2-c6c8-4231-b6f3-cbbc2ccb43ba",
   "metadata": {},
   "outputs": [
    {
     "name": "stdout",
     "output_type": "stream",
     "text": [
      " The Mode value of PassengerId columns is: 892\n",
      " The Mode value of Survived columns is: 0\n"
     ]
    }
   ],
   "source": [
    "for col in numeric_column: \n",
    "    print(f' The Mode value of {col} columns is: {data[col].mode()[0]}')"
   ]
  },
  {
   "cell_type": "markdown",
   "id": "8c6ebd11-9e8c-4bd3-b810-b22b47727d3c",
   "metadata": {},
   "source": [
    "<font size=\"4\"> Calculating Standard Deviation</font>"
   ]
  },
  {
   "cell_type": "code",
   "execution_count": 13,
   "id": "6c5ea031-f066-4faa-bbc6-e31c8e0f0da6",
   "metadata": {},
   "outputs": [
    {
     "name": "stdout",
     "output_type": "stream",
     "text": [
      " The Standar Deviation value of PassengerId columns is: 120.81045760473994\n",
      " The Standar Deviation value of Survived columns is: 0.48162214093223055\n"
     ]
    }
   ],
   "source": [
    "for col in numeric_column: \n",
    "    print(f' The Standar Deviation value of {col} columns is: {data[col].std()}')"
   ]
  },
  {
   "cell_type": "markdown",
   "id": "eff28cf6-76b9-4516-91d9-815525f74083",
   "metadata": {},
   "source": [
    "<font size=\"4\"> Calculating Summary Statistics using describe() function</font>"
   ]
  },
  {
   "cell_type": "code",
   "execution_count": 14,
   "id": "7454354c-94d1-4813-aef1-d164aa2a9eea",
   "metadata": {},
   "outputs": [
    {
     "data": {
      "text/html": [
       "<div>\n",
       "<style scoped>\n",
       "    .dataframe tbody tr th:only-of-type {\n",
       "        vertical-align: middle;\n",
       "    }\n",
       "\n",
       "    .dataframe tbody tr th {\n",
       "        vertical-align: top;\n",
       "    }\n",
       "\n",
       "    .dataframe thead th {\n",
       "        text-align: right;\n",
       "    }\n",
       "</style>\n",
       "<table border=\"1\" class=\"dataframe\">\n",
       "  <thead>\n",
       "    <tr style=\"text-align: right;\">\n",
       "      <th></th>\n",
       "      <th>PassengerId</th>\n",
       "      <th>Survived</th>\n",
       "    </tr>\n",
       "  </thead>\n",
       "  <tbody>\n",
       "    <tr>\n",
       "      <th>count</th>\n",
       "      <td>418.000000</td>\n",
       "      <td>418.000000</td>\n",
       "    </tr>\n",
       "    <tr>\n",
       "      <th>mean</th>\n",
       "      <td>1100.500000</td>\n",
       "      <td>0.363636</td>\n",
       "    </tr>\n",
       "    <tr>\n",
       "      <th>std</th>\n",
       "      <td>120.810458</td>\n",
       "      <td>0.481622</td>\n",
       "    </tr>\n",
       "    <tr>\n",
       "      <th>min</th>\n",
       "      <td>892.000000</td>\n",
       "      <td>0.000000</td>\n",
       "    </tr>\n",
       "    <tr>\n",
       "      <th>25%</th>\n",
       "      <td>996.250000</td>\n",
       "      <td>0.000000</td>\n",
       "    </tr>\n",
       "    <tr>\n",
       "      <th>50%</th>\n",
       "      <td>1100.500000</td>\n",
       "      <td>0.000000</td>\n",
       "    </tr>\n",
       "    <tr>\n",
       "      <th>75%</th>\n",
       "      <td>1204.750000</td>\n",
       "      <td>1.000000</td>\n",
       "    </tr>\n",
       "    <tr>\n",
       "      <th>max</th>\n",
       "      <td>1309.000000</td>\n",
       "      <td>1.000000</td>\n",
       "    </tr>\n",
       "  </tbody>\n",
       "</table>\n",
       "</div>"
      ],
      "text/plain": [
       "       PassengerId    Survived\n",
       "count   418.000000  418.000000\n",
       "mean   1100.500000    0.363636\n",
       "std     120.810458    0.481622\n",
       "min     892.000000    0.000000\n",
       "25%     996.250000    0.000000\n",
       "50%    1100.500000    0.000000\n",
       "75%    1204.750000    1.000000\n",
       "max    1309.000000    1.000000"
      ]
     },
     "execution_count": 14,
     "metadata": {},
     "output_type": "execute_result"
    }
   ],
   "source": [
    "data.describe()"
   ]
  },
  {
   "cell_type": "markdown",
   "id": "378353db-9898-47ea-8114-23b6cab6b644",
   "metadata": {},
   "source": [
    "<font size=\"4\"> Thank You</font>"
   ]
  }
 ],
 "metadata": {
  "kernelspec": {
   "display_name": "Python 3 (ipykernel)",
   "language": "python",
   "name": "python3"
  },
  "language_info": {
   "codemirror_mode": {
    "name": "ipython",
    "version": 3
   },
   "file_extension": ".py",
   "mimetype": "text/x-python",
   "name": "python",
   "nbconvert_exporter": "python",
   "pygments_lexer": "ipython3",
   "version": "3.12.4"
  }
 },
 "nbformat": 4,
 "nbformat_minor": 5
}
